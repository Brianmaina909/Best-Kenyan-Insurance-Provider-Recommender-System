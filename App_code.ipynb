{
  "nbformat": 4,
  "nbformat_minor": 0,
  "metadata": {
    "colab": {
      "provenance": [],
      "mount_file_id": "1bmiBx61IGk2n8Y3w9iMvEvRms24DXMHT",
      "authorship_tag": "ABX9TyPt0GXIYw/Q8jzvX4+U7B9w",
      "include_colab_link": true
    },
    "kernelspec": {
      "name": "python3",
      "display_name": "Python 3"
    },
    "language_info": {
      "name": "python"
    }
  },
  "cells": [
    {
      "cell_type": "markdown",
      "metadata": {
        "id": "view-in-github",
        "colab_type": "text"
      },
      "source": [
        "<a href=\"https://colab.research.google.com/github/Brianmaina909/Best-Kenyan-Insurance-Provider-Recommender-System/blob/main/App_code.ipynb\" target=\"_parent\"><img src=\"https://colab.research.google.com/assets/colab-badge.svg\" alt=\"Open In Colab\"/></a>"
      ]
    },
    {
      "cell_type": "code",
      "source": [
        "# prompt: code to deploy our xgboost best model\n",
        "\n",
        "# This code is a placeholder for deployment, adapt as needed for your specific environment.\n",
        "\n",
        "# Example using Flask for a simple API\n",
        "from flask import Flask, request, jsonify\n",
        "import joblib\n",
        "\n",
        "app = Flask(__name__)\n",
        "\n",
        "# Load the saved model\n",
        "model = joblib.load('xgboost_model.pkl')\n",
        "\n",
        "@app.route('/predict', methods=['POST'])\n",
        "def predict():\n",
        "  data = request.get_json() # Expecting input features as JSON\n",
        "  # Preprocess the input data (similar to training preprocessing)\n",
        "  # ...\n",
        "  prediction = model.predict([data]) # Assuming data is preprocessed\n",
        "  return jsonify({'prediction': prediction[0]})\n",
        "\n",
        "if __name__ == '__main__':\n",
        "  app.run(debug=True, host='0.0.0.0')\n"
      ],
      "metadata": {
        "id": "M9j06tnPRaFx",
        "outputId": "1cd7b266-5d9a-4581-8d7b-40df8e04cf69",
        "colab": {
          "base_uri": "https://localhost:8080/"
        }
      },
      "execution_count": null,
      "outputs": [
        {
          "output_type": "stream",
          "name": "stdout",
          "text": [
            " * Serving Flask app '__main__'\n",
            " * Debug mode: on\n"
          ]
        },
        {
          "output_type": "stream",
          "name": "stderr",
          "text": [
            "INFO:werkzeug:\u001b[31m\u001b[1mWARNING: This is a development server. Do not use it in a production deployment. Use a production WSGI server instead.\u001b[0m\n",
            " * Running on all addresses (0.0.0.0)\n",
            " * Running on http://127.0.0.1:5000\n",
            " * Running on http://172.28.0.12:5000\n",
            "INFO:werkzeug:\u001b[33mPress CTRL+C to quit\u001b[0m\n",
            "INFO:werkzeug: * Restarting with stat\n"
          ]
        }
      ]
    },
    {
      "cell_type": "code",
      "source": [
        "!ls -al /content/\n"
      ],
      "metadata": {
        "id": "oI57H0a66ceI"
      },
      "execution_count": null,
      "outputs": []
    }
  ]
}